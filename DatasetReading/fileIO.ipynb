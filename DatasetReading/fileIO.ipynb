{
 "cells": [
  {
   "cell_type": "code",
   "execution_count": 66,
   "metadata": {},
   "outputs": [
    {
     "data": {
      "text/plain": [
       "'utf-8'"
      ]
     },
     "execution_count": 66,
     "metadata": {},
     "output_type": "execute_result"
    }
   ],
   "source": [
    "import sys\n",
    "sys.getdefaultencoding()"
   ]
  },
  {
   "cell_type": "code",
   "execution_count": 79,
   "metadata": {},
   "outputs": [
    {
     "data": {
      "text/plain": [
       "12"
      ]
     },
     "execution_count": 79,
     "metadata": {},
     "output_type": "execute_result"
    }
   ],
   "source": [
    "import codecs\n",
    "import chardet\n",
    "import re\n",
    "\n",
    "def check_file_encoding_type(dir):\n",
    "    \"\"\"\n",
    "    在不知道文件 编码类型的情况下，输出文件的编码类型\n",
    "    \"\"\"\n",
    "    with open(dir,'rb') as file: #不知道文件编码格式的情况下，使用 二级制字符流(bytes) 打开文件\n",
    "        line1=file.readline()\n",
    "        detect = chardet.detect(line1)\n",
    "        \n",
    "#         print(detect)\n",
    "#         print('bytes:',line1)\n",
    "#         print('decoding: ',line1.decode(detect['encoding']))\n",
    "        \n",
    "        return detect['encoding']\n",
    "    \n",
    "def convert_file_encoding(dir,encoding):\n",
    "    \"\"\"\n",
    "    把目标文件 转换为 指定的编码格式\n",
    "    \"\"\"\n",
    "    \n",
    "    org_encoding=check_file_encoding_type(dir)\n",
    "    print('original encoding:',org_encoding)\n",
    "    \n",
    "    file = open(dir,'r',encoding=org_encoding) \n",
    "    data=file.read()\n",
    "    print('unicode str: ',data) #python3 中字符串是以Unicode编码的，字符串要写入文件前要进行 编码（encode）\n",
    "    \n",
    "    data=data.encode(encoding) # 使用 encoding 类型对Unicode 进行编码 \n",
    "    print('after encoding: ',data)\n",
    "    print(chardet.detect(data))\n",
    "    \n",
    "    file.close()\n",
    "    \n",
    "    file = open(dir, 'wb')\n",
    "    file.write(data) # 写入文件\n",
    "    file.close()\n",
    "\n",
    "\n",
    "def edit_file(dir):\n",
    "    \"\"\"\n",
    "    读取文件的每一行，并进行修改，然后写回到同一个文件中\n",
    "    \"\"\"   \n",
    "# 边读边写（不靠谱）\n",
    "#     with open(dir,'r+',encoding=org_encoding) as file:\n",
    "#         data=file.read()       \n",
    "#         print(data)\n",
    "#         file.write(data)\n",
    "\n",
    "    org_encoding=check_file_encoding_type(dir)\n",
    "    \n",
    "    file = open(dir, 'r',encoding=org_encoding)\n",
    "    alllines=file.readlines() #全部读出来，在内存中修改  # TODO：读一行 改一行 写一行（节约内存）\n",
    "    print ('original: ',alllines)\n",
    "    for i in range(len(alllines)):\n",
    "        \n",
    "        line=alllines[i]\n",
    "\n",
    "        if re.match(r'^\\n$|^\\r\\n$', line) is  None: #in some txt the end of the line is \\n ; while others is \\r\\n\n",
    "            line=re.sub('\\n|\\r\\n', ' ', line) #string replace using regular\n",
    "        \n",
    "        line=re.sub('[^\\u4e00-\\u9fa5^a-z^A-Z^0-9]', '', line) # 过滤非中英文和数字的字符串\n",
    "\n",
    "        alllines[i]=line\n",
    "\n",
    "    print ('after: ',alllines)\n",
    "    file.close()\n",
    "\n",
    "\n",
    "    file = open(dir, 'w')\n",
    "    \n",
    "    file.writelines(alllines)#修改好后再全部写入\n",
    "    file.close()\n",
    "    \n",
    "    \n",
    "dir1 = 'tmp/中文文本(utf-8).txt'\n",
    "dir2 = 'tmp/中文文本(gbk).txt'\n",
    "dir3 = 'tmp/中文文本(utf-8bom).txt'\n",
    "\n",
    "# check_file_encoding_type(dir1)\n",
    "# check_file_encoding_type(dir2)       \n",
    "# check_file_encoding_type(dir3)\n",
    "\n",
    "# convert_file_encoding(dir2,'utf-8')\n",
    "# convert_file_encoding(dir2,'gbk')\n",
    "\n",
    "# convert_file_encoding(dir3,'gbk')\n",
    "# convert_file_encoding(dir2,'UTF-8-SIG')\n",
    "\n",
    "# edit_file(dir3)"
   ]
  }
 ],
 "metadata": {
  "kernelspec": {
   "display_name": "Python 3",
   "language": "python",
   "name": "python3"
  },
  "language_info": {
   "codemirror_mode": {
    "name": "ipython",
    "version": 3.0
   },
   "file_extension": ".py",
   "mimetype": "text/x-python",
   "name": "python",
   "nbconvert_exporter": "python",
   "pygments_lexer": "ipython3",
   "version": "3.7.3"
  },
  "toc": {
   "base_numbering": 1.0,
   "nav_menu": {},
   "number_sections": true,
   "sideBar": true,
   "skip_h1_title": false,
   "title_cell": "Table of Contents",
   "title_sidebar": "Contents",
   "toc_cell": false,
   "toc_position": {},
   "toc_section_display": true,
   "toc_window_display": false
  }
 },
 "nbformat": 4,
 "nbformat_minor": 0
}